{
 "cells": [
  {
   "cell_type": "code",
   "execution_count": null,
   "id": "1d9bb268-ad14-427a-9902-dc3bd8b4bd5e",
   "metadata": {},
   "outputs": [],
   "source": [
    "# Importing the required libraries and dependencies\n",
    "import numpy as np\n",
    "import pandas as pd\n",
    "import hvplot.pandas\n",
    "import sqlalchemy\n",
    "\n",
    "# Create a temporary SQLite database and populate the database with content from the etf.db seed file\n",
    "database_connection_string = 'sqlite:///etf.db'\n",
    "\n",
    "# Create an engine to interact with the SQLite database\n",
    "engine = sqlalchemy.create_engine(database_connection_string)\n",
    "\n",
    "# Confirm that table names contained in the SQLite database.\n",
    "engine.table_names()\n",
    "\n",
    "\n",
    "# Write a SQL query to SELECT all of the data from the PYPL table\n",
    "query = \"\"\"\n",
    "SELECT * FROM PYPL;\n",
    "\"\"\"\n",
    "\n",
    "# Use the query to read the PYPL data into a Pandas DataFrame\n",
    "pypl_dataframe = pd.read_sql_query(query, con=engine)\n",
    "\n",
    "\n",
    "# Create an interactive visaulization with hvplot to plot the cumulative returns for PYPL.\n",
    "(1+ pypl_dataframe['daily_returns']).cumprod().hvplot(\n",
    "    x='time', \n",
    "    title=\"Cumulative Returns for PYPL\",\n",
    "    xlabel=\"Days\",\n",
    "    ylabel=\"Cumulative Return Value\"\n",
    ")\n",
    "\n"
   ]
  }
 ],
 "metadata": {
  "kernelspec": {
   "display_name": "Python 3 (ipykernel)",
   "language": "python",
   "name": "python3"
  },
  "language_info": {
   "codemirror_mode": {
    "name": "ipython",
    "version": 3
   },
   "file_extension": ".py",
   "mimetype": "text/x-python",
   "name": "python",
   "nbconvert_exporter": "python",
   "pygments_lexer": "ipython3",
   "version": "3.9.13"
  }
 },
 "nbformat": 4,
 "nbformat_minor": 5
}
